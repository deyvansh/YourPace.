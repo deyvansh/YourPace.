{
 "cells": [
  {
   "cell_type": "code",
   "execution_count": 1,
   "id": "d1dbd931-d817-4b60-86e1-d0a77806ad19",
   "metadata": {},
   "outputs": [],
   "source": [
    "import pandas as pd\n",
    "#from matplotlib import cm\n",
    "#plt.style.use('ggplot')"
   ]
  },
  {
   "cell_type": "code",
   "execution_count": 2,
   "id": "fcff023d-a600-416b-8173-28003bd6aad7",
   "metadata": {},
   "outputs": [],
   "source": [
    "course = pd.read_csv(\"udemy_courses.csv\")"
   ]
  },
  {
   "cell_type": "code",
   "execution_count": 3,
   "id": "211ed88b-4c61-45a4-b24c-64ff7ec19048",
   "metadata": {},
   "outputs": [],
   "source": [
    "course = course.drop(columns = [\"is_paid\", \"num_reviews\", \"published_timestamp\",\"num_subscribers\",\"num_lectures\", \"course_id\"])\n",
    "course = course.rename(columns = {'course_title' : 'title', 'subject' : 'tag'})\n",
    "#course.head(5)"
   ]
  },
  {
   "cell_type": "code",
   "execution_count": 4,
   "id": "78253e38-fd73-4196-8dcf-0e3a4b0e7a48",
   "metadata": {},
   "outputs": [],
   "source": [
    "book = pd.read_csv('goodreads_data.csv')\n",
    "book = book.drop(columns = [\"Avg_Rating\", \"Num_Ratings\", \"Author\"])\n",
    "book = book.rename(columns = {'Book' : 'title', 'Genres' : 'tag', 'URL' : 'url'})"
   ]
  },
  {
   "cell_type": "code",
   "execution_count": 5,
   "id": "53bded0e-1ea0-4233-9311-0fa3d8dff41f",
   "metadata": {},
   "outputs": [],
   "source": [
    "course['type'] = 'course'\n",
    "book['type'] = 'book'"
   ]
  },
  {
   "cell_type": "code",
   "execution_count": 6,
   "id": "eb03eeeb-7891-4a7f-88d9-6dfecb8494fc",
   "metadata": {},
   "outputs": [],
   "source": [
    "combined = pd.concat([book, course], ignore_index = True)\n",
    "combined.drop_duplicates(subset=['title'], keep='first', inplace=True)\n",
    "#if 'Description' not in combined.columns:\n",
    "#    combined['Description'] = \"0\"\n",
    "combined['Description'] = combined['Description'].fillna(' ') \n",
    "combined['Unnamed: 0']  = combined['Unnamed: 0'].fillna(' ')\n",
    "#combined.head(5)\n",
    "#combined.tail(5)"
   ]
  },
  {
   "cell_type": "code",
   "execution_count": 7,
   "id": "2a1f8f41-d4cc-48ec-a1fb-98141387d558",
   "metadata": {},
   "outputs": [],
   "source": [
    "#combined.isnull().sum()"
   ]
  },
  {
   "cell_type": "code",
   "execution_count": 8,
   "id": "67a82f55-90a7-4cfa-b6fe-d371ba5f16dd",
   "metadata": {},
   "outputs": [
    {
     "data": {
      "text/html": [
       "<div>\n",
       "<style scoped>\n",
       "    .dataframe tbody tr th:only-of-type {\n",
       "        vertical-align: middle;\n",
       "    }\n",
       "\n",
       "    .dataframe tbody tr th {\n",
       "        vertical-align: top;\n",
       "    }\n",
       "\n",
       "    .dataframe thead th {\n",
       "        text-align: right;\n",
       "    }\n",
       "</style>\n",
       "<table border=\"1\" class=\"dataframe\">\n",
       "  <thead>\n",
       "    <tr style=\"text-align: right;\">\n",
       "      <th></th>\n",
       "      <th>Unnamed: 0</th>\n",
       "      <th>title</th>\n",
       "      <th>Description</th>\n",
       "      <th>tag</th>\n",
       "      <th>url</th>\n",
       "      <th>type</th>\n",
       "      <th>price</th>\n",
       "      <th>level</th>\n",
       "      <th>content_duration</th>\n",
       "    </tr>\n",
       "  </thead>\n",
       "  <tbody>\n",
       "    <tr>\n",
       "      <th>0</th>\n",
       "      <td>0.0</td>\n",
       "      <td>To Kill a Mockingbird</td>\n",
       "      <td>The unforgettable novel of a childhood in a sl...</td>\n",
       "      <td>['Classics', 'Fiction', 'Historical Fiction', ...</td>\n",
       "      <td>https://www.goodreads.com/book/show/2657.To_Ki...</td>\n",
       "      <td>book</td>\n",
       "      <td>NaN</td>\n",
       "      <td>NaN</td>\n",
       "      <td>NaN</td>\n",
       "    </tr>\n",
       "    <tr>\n",
       "      <th>1</th>\n",
       "      <td>1.0</td>\n",
       "      <td>Harry Potter and the Philosopher’s Stone (Harr...</td>\n",
       "      <td>Harry Potter thinks he is an ordinary boy - un...</td>\n",
       "      <td>['Fantasy', 'Fiction', 'Young Adult', 'Magic',...</td>\n",
       "      <td>https://www.goodreads.com/book/show/72193.Harr...</td>\n",
       "      <td>book</td>\n",
       "      <td>NaN</td>\n",
       "      <td>NaN</td>\n",
       "      <td>NaN</td>\n",
       "    </tr>\n",
       "    <tr>\n",
       "      <th>2</th>\n",
       "      <td>2.0</td>\n",
       "      <td>Pride and Prejudice</td>\n",
       "      <td>Since its immediate success in 1813, Pride and...</td>\n",
       "      <td>['Classics', 'Fiction', 'Romance', 'Historical...</td>\n",
       "      <td>https://www.goodreads.com/book/show/1885.Pride...</td>\n",
       "      <td>book</td>\n",
       "      <td>NaN</td>\n",
       "      <td>NaN</td>\n",
       "      <td>NaN</td>\n",
       "    </tr>\n",
       "    <tr>\n",
       "      <th>3</th>\n",
       "      <td>3.0</td>\n",
       "      <td>The Diary of a Young Girl</td>\n",
       "      <td>Discovered in the attic in which she spent the...</td>\n",
       "      <td>['Classics', 'Nonfiction', 'History', 'Biograp...</td>\n",
       "      <td>https://www.goodreads.com/book/show/48855.The_...</td>\n",
       "      <td>book</td>\n",
       "      <td>NaN</td>\n",
       "      <td>NaN</td>\n",
       "      <td>NaN</td>\n",
       "    </tr>\n",
       "    <tr>\n",
       "      <th>4</th>\n",
       "      <td>4.0</td>\n",
       "      <td>Animal Farm</td>\n",
       "      <td>Librarian's note: There is an Alternate Cover ...</td>\n",
       "      <td>['Classics', 'Fiction', 'Dystopia', 'Fantasy',...</td>\n",
       "      <td>https://www.goodreads.com/book/show/170448.Ani...</td>\n",
       "      <td>book</td>\n",
       "      <td>NaN</td>\n",
       "      <td>NaN</td>\n",
       "      <td>NaN</td>\n",
       "    </tr>\n",
       "  </tbody>\n",
       "</table>\n",
       "</div>"
      ],
      "text/plain": [
       "  Unnamed: 0                                              title  \\\n",
       "0        0.0                              To Kill a Mockingbird   \n",
       "1        1.0  Harry Potter and the Philosopher’s Stone (Harr...   \n",
       "2        2.0                                Pride and Prejudice   \n",
       "3        3.0                          The Diary of a Young Girl   \n",
       "4        4.0                                        Animal Farm   \n",
       "\n",
       "                                         Description  \\\n",
       "0  The unforgettable novel of a childhood in a sl...   \n",
       "1  Harry Potter thinks he is an ordinary boy - un...   \n",
       "2  Since its immediate success in 1813, Pride and...   \n",
       "3  Discovered in the attic in which she spent the...   \n",
       "4  Librarian's note: There is an Alternate Cover ...   \n",
       "\n",
       "                                                 tag  \\\n",
       "0  ['Classics', 'Fiction', 'Historical Fiction', ...   \n",
       "1  ['Fantasy', 'Fiction', 'Young Adult', 'Magic',...   \n",
       "2  ['Classics', 'Fiction', 'Romance', 'Historical...   \n",
       "3  ['Classics', 'Nonfiction', 'History', 'Biograp...   \n",
       "4  ['Classics', 'Fiction', 'Dystopia', 'Fantasy',...   \n",
       "\n",
       "                                                 url  type  price level  \\\n",
       "0  https://www.goodreads.com/book/show/2657.To_Ki...  book    NaN   NaN   \n",
       "1  https://www.goodreads.com/book/show/72193.Harr...  book    NaN   NaN   \n",
       "2  https://www.goodreads.com/book/show/1885.Pride...  book    NaN   NaN   \n",
       "3  https://www.goodreads.com/book/show/48855.The_...  book    NaN   NaN   \n",
       "4  https://www.goodreads.com/book/show/170448.Ani...  book    NaN   NaN   \n",
       "\n",
       "   content_duration  \n",
       "0               NaN  \n",
       "1               NaN  \n",
       "2               NaN  \n",
       "3               NaN  \n",
       "4               NaN  "
      ]
     },
     "execution_count": 8,
     "metadata": {},
     "output_type": "execute_result"
    }
   ],
   "source": [
    "combined.head(5)"
   ]
  },
  {
   "cell_type": "code",
   "execution_count": null,
   "id": "7582f300-4c44-4d50-b6bb-98121c39647b",
   "metadata": {},
   "outputs": [],
   "source": []
  }
 ],
 "metadata": {
  "kernelspec": {
   "display_name": "Python 3 (ipykernel)",
   "language": "python",
   "name": "python3"
  },
  "language_info": {
   "codemirror_mode": {
    "name": "ipython",
    "version": 3
   },
   "file_extension": ".py",
   "mimetype": "text/x-python",
   "name": "python",
   "nbconvert_exporter": "python",
   "pygments_lexer": "ipython3",
   "version": "3.13.2"
  }
 },
 "nbformat": 4,
 "nbformat_minor": 5
}
